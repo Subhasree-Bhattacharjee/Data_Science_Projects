{
 "cells": [
  {
   "cell_type": "code",
   "execution_count": 1,
   "id": "bcd7231a",
   "metadata": {},
   "outputs": [],
   "source": [
    "import numpy as np\n",
    "import tensorflow as tf\n",
    "from sklearn import preprocessing"
   ]
  },
  {
   "cell_type": "code",
   "execution_count": 2,
   "id": "544e9903",
   "metadata": {},
   "outputs": [],
   "source": [
    "raw_csv_data= np.loadtxt('Audiobooks_data.csv',delimiter=',')"
   ]
  },
  {
   "cell_type": "code",
   "execution_count": 3,
   "id": "b40af6ab",
   "metadata": {},
   "outputs": [],
   "source": [
    "unscaled_inputs_all=raw_csv_data[:,1:-1]\n",
    "targets_all=raw_csv_data[:,-1]"
   ]
  },
  {
   "cell_type": "code",
   "execution_count": 4,
   "id": "8c567818",
   "metadata": {},
   "outputs": [
    {
     "data": {
      "text/plain": [
       "2237"
      ]
     },
     "execution_count": 4,
     "metadata": {},
     "output_type": "execute_result"
    }
   ],
   "source": [
    "num_one_targets= int(np.sum(targets_all))\n",
    "num_one_targets\n"
   ]
  },
  {
   "cell_type": "code",
   "execution_count": 5,
   "id": "a6dcbccb",
   "metadata": {},
   "outputs": [],
   "source": [
    "zero_targets_counter=0\n",
    "indices_to_remove=[]\n",
    "\n",
    "for i in range(targets_all.shape[0]):\n",
    "    if targets_all[i]==0:\n",
    "        zero_targets_counter+=1\n",
    "        if zero_targets_counter>num_one_targets:\n",
    "            indices_to_remove.append(i)\n",
    "\n",
    "inputs_equal_priors=np.delete(unscaled_inputs_all, indices_to_remove,axis=0)\n",
    "targets_equal_priors=np.delete(targets_all, indices_to_remove, axis=0)"
   ]
  },
  {
   "cell_type": "code",
   "execution_count": 6,
   "id": "ac0e341d",
   "metadata": {},
   "outputs": [],
   "source": [
    "scaled_inputs= preprocessing.scale(inputs_equal_priors)"
   ]
  },
  {
   "cell_type": "code",
   "execution_count": 7,
   "id": "0ecf8fb0",
   "metadata": {},
   "outputs": [
    {
     "data": {
      "text/plain": [
       "array([1944, 1370, 1823, ..., 4377, 3611, 4432])"
      ]
     },
     "execution_count": 7,
     "metadata": {},
     "output_type": "execute_result"
    }
   ],
   "source": [
    "shuffled_indices=np.arange(scaled_inputs.shape[0])\n",
    "np.random.shuffle(shuffled_indices)\n",
    "shuffled_inputs= scaled_inputs[shuffled_indices]\n",
    "shuffled_targets=targets_equal_priors[shuffled_indices]\n",
    "shuffled_indices"
   ]
  },
  {
   "cell_type": "code",
   "execution_count": 8,
   "id": "f865bfe8",
   "metadata": {},
   "outputs": [
    {
     "data": {
      "text/plain": [
       "4474"
      ]
     },
     "execution_count": 8,
     "metadata": {},
     "output_type": "execute_result"
    }
   ],
   "source": [
    "num_samples= shuffled_targets.shape[0]\n",
    "num_samples"
   ]
  },
  {
   "cell_type": "code",
   "execution_count": 9,
   "id": "555bdebe",
   "metadata": {},
   "outputs": [
    {
     "name": "stdout",
     "output_type": "stream",
     "text": [
      "1792.0 3579 0.5006985191394244\n",
      "219.0 447 0.4899328859060403\n",
      "226.0 448 0.5044642857142857\n"
     ]
    }
   ],
   "source": [
    "num_train= int(0.8*num_samples)\n",
    "num_validation= int(0.1*num_samples)\n",
    "num_test= num_samples-num_train-num_validation\n",
    "\n",
    "train_inputs= shuffled_inputs[:num_train]\n",
    "train_targets= shuffled_targets[:num_train]\n",
    "validation_inputs= shuffled_inputs[num_train:num_train+num_validation]\n",
    "validation_targets= shuffled_targets[num_train:num_train+num_validation]\n",
    "test_inputs=shuffled_inputs[num_train+num_validation:]\n",
    "test_targets= shuffled_targets[num_train+num_validation:]\n",
    "\n",
    "print(np.sum(train_targets), num_train, np.sum(train_targets)/num_train)\n",
    "print(np.sum(validation_targets), num_validation, np.sum(validation_targets)/num_validation)\n",
    "print(np.sum(test_targets), num_test, np.sum(test_targets)/num_test)"
   ]
  },
  {
   "cell_type": "code",
   "execution_count": 10,
   "id": "c3610ce0",
   "metadata": {},
   "outputs": [],
   "source": [
    "np.savez('Audiobooks_train', inputs=train_inputs, targets=train_targets)\n",
    "np.savez('Audiobooks_validation', inputs=validation_inputs, targets=validation_targets)\n",
    "np.savez('Audiobooks_test', inputs=test_inputs, targets=test_targets)\n"
   ]
  },
  {
   "cell_type": "code",
   "execution_count": 11,
   "id": "97ac1526",
   "metadata": {},
   "outputs": [],
   "source": [
    "npz= np.load('Audiobooks_train.npz')\n",
    "train_inputs, train_targets= npz['inputs'].astype(np.float32), npz['targets'].astype(np.int64)\n",
    "npz= np.load('Audiobooks_validation.npz')\n",
    "validation_inputs, validation_targets= npz['inputs'].astype(np.float32), npz['targets'].astype(np.int64)\n",
    "npz= np.load('Audiobooks_test.npz')\n",
    "test_inputs, test_targets= npz['inputs'].astype(np.float32), npz['targets'].astype(np.int64)\n"
   ]
  },
  {
   "cell_type": "code",
   "execution_count": 20,
   "id": "49db38a4",
   "metadata": {},
   "outputs": [
    {
     "name": "stdout",
     "output_type": "stream",
     "text": [
      "Epoch 1/100\n",
      "36/36 - 1s - loss: 0.5326 - accuracy: 0.7245 - val_loss: 0.4313 - val_accuracy: 0.7897 - 1s/epoch - 34ms/step\n",
      "Epoch 2/100\n",
      "36/36 - 0s - loss: 0.4101 - accuracy: 0.7843 - val_loss: 0.3762 - val_accuracy: 0.8009 - 125ms/epoch - 3ms/step\n",
      "Epoch 3/100\n",
      "36/36 - 0s - loss: 0.3766 - accuracy: 0.7999 - val_loss: 0.3593 - val_accuracy: 0.8166 - 156ms/epoch - 4ms/step\n",
      "Epoch 4/100\n",
      "36/36 - 0s - loss: 0.3647 - accuracy: 0.8041 - val_loss: 0.3454 - val_accuracy: 0.8076 - 134ms/epoch - 4ms/step\n",
      "Epoch 5/100\n",
      "36/36 - 0s - loss: 0.3530 - accuracy: 0.8033 - val_loss: 0.3407 - val_accuracy: 0.8143 - 156ms/epoch - 4ms/step\n",
      "Epoch 6/100\n",
      "36/36 - 0s - loss: 0.3469 - accuracy: 0.8153 - val_loss: 0.3444 - val_accuracy: 0.8098 - 172ms/epoch - 5ms/step\n",
      "Epoch 7/100\n",
      "36/36 - 0s - loss: 0.3445 - accuracy: 0.8094 - val_loss: 0.3310 - val_accuracy: 0.8188 - 125ms/epoch - 3ms/step\n",
      "Epoch 8/100\n",
      "36/36 - 0s - loss: 0.3414 - accuracy: 0.8167 - val_loss: 0.3419 - val_accuracy: 0.7942 - 125ms/epoch - 3ms/step\n",
      "Epoch 9/100\n",
      "36/36 - 0s - loss: 0.3357 - accuracy: 0.8173 - val_loss: 0.3295 - val_accuracy: 0.8031 - 141ms/epoch - 4ms/step\n",
      "Epoch 10/100\n",
      "36/36 - 0s - loss: 0.3358 - accuracy: 0.8150 - val_loss: 0.3352 - val_accuracy: 0.8166 - 156ms/epoch - 4ms/step\n",
      "Epoch 11/100\n",
      "36/36 - 0s - loss: 0.3350 - accuracy: 0.8128 - val_loss: 0.3284 - val_accuracy: 0.8210 - 187ms/epoch - 5ms/step\n",
      "Epoch 12/100\n",
      "36/36 - 0s - loss: 0.3301 - accuracy: 0.8231 - val_loss: 0.3287 - val_accuracy: 0.8166 - 172ms/epoch - 5ms/step\n",
      "Epoch 13/100\n",
      "36/36 - 0s - loss: 0.3265 - accuracy: 0.8178 - val_loss: 0.3247 - val_accuracy: 0.8277 - 157ms/epoch - 4ms/step\n",
      "Epoch 14/100\n",
      "36/36 - 0s - loss: 0.3266 - accuracy: 0.8223 - val_loss: 0.3214 - val_accuracy: 0.8277 - 172ms/epoch - 5ms/step\n",
      "Epoch 15/100\n",
      "36/36 - 0s - loss: 0.3215 - accuracy: 0.8259 - val_loss: 0.3184 - val_accuracy: 0.8166 - 146ms/epoch - 4ms/step\n",
      "Epoch 16/100\n",
      "36/36 - 0s - loss: 0.3218 - accuracy: 0.8245 - val_loss: 0.3330 - val_accuracy: 0.8098 - 156ms/epoch - 4ms/step\n",
      "Epoch 17/100\n",
      "36/36 - 0s - loss: 0.3251 - accuracy: 0.8268 - val_loss: 0.3131 - val_accuracy: 0.8367 - 172ms/epoch - 5ms/step\n",
      "Epoch 18/100\n",
      "36/36 - 0s - loss: 0.3205 - accuracy: 0.8262 - val_loss: 0.3237 - val_accuracy: 0.8166 - 172ms/epoch - 5ms/step\n",
      "Epoch 19/100\n",
      "36/36 - 0s - loss: 0.3183 - accuracy: 0.8215 - val_loss: 0.3134 - val_accuracy: 0.8389 - 156ms/epoch - 4ms/step\n"
     ]
    },
    {
     "data": {
      "text/plain": [
       "<keras.src.callbacks.History at 0x2e5da418190>"
      ]
     },
     "execution_count": 20,
     "metadata": {},
     "output_type": "execute_result"
    }
   ],
   "source": [
    "input_size=10\n",
    "output_size=2\n",
    "hidden_layer_size=100\n",
    "\n",
    "model= tf.keras.Sequential([\n",
    "    \n",
    "                            tf.keras.layers.Dense(hidden_layer_size, activation='relu'),\n",
    "                            tf.keras.layers.Dense(hidden_layer_size, activation='relu'),\n",
    "    \n",
    "                            \n",
    "                            \n",
    "    \n",
    "                             tf.keras.layers.Dense(output_size, activation='softmax')\n",
    "                    ])\n",
    "\n",
    "model.compile(optimizer='adam', loss='sparse_categorical_crossentropy', metrics=['accuracy'])\n",
    "batch_size=100\n",
    "max_epochs=100\n",
    "early_stopping= tf.keras.callbacks.EarlyStopping(patience=2)\n",
    "\n",
    "model.fit( train_inputs,\n",
    "          train_targets,\n",
    "          batch_size=batch_size,\n",
    "          epochs=max_epochs,\n",
    "          callbacks=[early_stopping],\n",
    "          validation_data=(validation_inputs,validation_targets),\n",
    "          verbose=2 )\n",
    "\n",
    "\n"
   ]
  },
  {
   "cell_type": "code",
   "execution_count": 21,
   "id": "a6de4cc1",
   "metadata": {},
   "outputs": [
    {
     "name": "stdout",
     "output_type": "stream",
     "text": [
      "14/14 [==============================] - 0s 2ms/step - loss: 0.3392 - accuracy: 0.8058\n",
      "0.33921000361442566 0.8058035969734192\n"
     ]
    }
   ],
   "source": [
    "test_loss, test_accuracy= model.evaluate(test_inputs, test_targets)\n",
    "print(test_loss, test_accuracy)"
   ]
  },
  {
   "cell_type": "code",
   "execution_count": null,
   "id": "52778180",
   "metadata": {},
   "outputs": [],
   "source": []
  }
 ],
 "metadata": {
  "kernelspec": {
   "display_name": "Python 3 (ipykernel)",
   "language": "python",
   "name": "python3"
  },
  "language_info": {
   "codemirror_mode": {
    "name": "ipython",
    "version": 3
   },
   "file_extension": ".py",
   "mimetype": "text/x-python",
   "name": "python",
   "nbconvert_exporter": "python",
   "pygments_lexer": "ipython3",
   "version": "3.10.9"
  }
 },
 "nbformat": 4,
 "nbformat_minor": 5
}
